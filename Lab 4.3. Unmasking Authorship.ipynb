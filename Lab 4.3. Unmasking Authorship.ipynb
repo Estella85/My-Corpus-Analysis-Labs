{
 "cells": [
  {
   "cell_type": "markdown",
   "metadata": {},
   "source": [
    "We've seen that we can identify different authors by their writing style. In this lab, we'll use a method called *unmasking* to see how robust these methods are. If the model is finding shallow or trivial patterns, then prediction accuracy will quickly decline as we prune important features. But if the model is finding deep and robust patterns, then the prediction accuracy will stay strong. Today, we'll find out!\n",
    "\n",
    "Let's start by getting our environment ready."
   ]
  },
  {
   "cell_type": "code",
   "execution_count": 1,
   "metadata": {},
   "outputs": [
    {
     "name": "stdout",
     "output_type": "stream",
     "text": [
      "Done!\n"
     ]
    }
   ],
   "source": [
    "from text_analytics import TextAnalytics\n",
    "import os\n",
    "import pandas as pd\n",
    "\n",
    "ai = TextAnalytics()\n",
    "ai.data_dir = os.path.join(\".\", \"data\")\n",
    "print(\"Done!\")"
   ]
  },
  {
   "cell_type": "markdown",
   "metadata": {},
   "source": [
    "Our data will be chapter-size chunks from books written by 19th-century authors. The basic process of unmasking is to train a linear text classifier. This means that we can inspect the feature weights. We then remove the most important features and try again. The faster accuracy degrades, the less robust the results are. This classification could take awhile, so we're going to load the results from pre-run models.\n",
    "\n",
    "We have two sets of experiments here: the main data is from 24 19th-century authors. But the baseline data is from just one author, Jane Abbott. We'll classify different books from the same author; we expect authorship analysis to not work as well here, because it's the same author. And so that is our baseline: how quickly does performance decline?"
   ]
  },
  {
   "cell_type": "code",
   "execution_count": 2,
   "metadata": {},
   "outputs": [
    {
     "name": "stdout",
     "output_type": "stream",
     "text": [
      "    Cycle  Generation  N_Features  Precision  Recall  F-Score  Support  \\\n",
      "0       1        1850       10095       0.58    0.59     0.58       93   \n",
      "1       2        1850       10048       0.48    0.48     0.46       93   \n",
      "2       3        1850        9992       0.38    0.42     0.39       93   \n",
      "3       4        1850        9934       0.27    0.30     0.26       93   \n",
      "4       5        1850        9885       0.23    0.27     0.24       93   \n",
      "5       6        1850        9842       0.22    0.26     0.23       93   \n",
      "6       7        1850        9814       0.22    0.26     0.21       93   \n",
      "7       8        1850        9799       0.14    0.16     0.12       93   \n",
      "8       9        1850        9790       0.00    0.05     0.01       93   \n",
      "9      10        1850        9788       0.00    0.05     0.01       93   \n",
      "10     11        1850        9786       0.00    0.05     0.01       93   \n",
      "11     12        1850        9785       0.00    0.05     0.01       93   \n",
      "12     13        1850        9784       0.00    0.05     0.01       93   \n",
      "13     14        1850        9783       0.00    0.05     0.01       93   \n",
      "14     15        1850        9782       0.00    0.05     0.01       93   \n",
      "15     16        1850        9781       0.00    0.05     0.01       93   \n",
      "16     17        1850        9780       0.00    0.05     0.01       93   \n",
      "17     18        1850        9779       0.00    0.05     0.01       93   \n",
      "18     19        1850        9778       0.00    0.05     0.01       93   \n",
      "19     20        1850        9777       0.00    0.05     0.01       93   \n",
      "20      1        1800       10095       0.46    0.34     0.37       93   \n",
      "21      2        1800       10034       0.22    0.18     0.19       93   \n",
      "22      3        1800        9972       0.20    0.15     0.15       93   \n",
      "23      4        1800        9906       0.18    0.13     0.14       93   \n",
      "24      5        1800        9848       0.18    0.17     0.16       93   \n",
      "25      6        1800        9815       0.18    0.12     0.13       93   \n",
      "26      7        1800        9797       0.02    0.02     0.02       93   \n",
      "27      8        1800        9787       0.00    0.02     0.00       93   \n",
      "28      9        1800        9786       0.00    0.02     0.00       93   \n",
      "29     10        1800        9785       0.00    0.02     0.00       93   \n",
      "30     11        1800        9784       0.00    0.02     0.00       93   \n",
      "31     12        1800        9783       0.00    0.02     0.00       93   \n",
      "32     13        1800        9782       0.00    0.02     0.00       93   \n",
      "33     14        1800        9781       0.00    0.02     0.00       93   \n",
      "34     15        1800        9780       0.00    0.02     0.00       93   \n",
      "35     16        1800        9779       0.00    0.02     0.00       93   \n",
      "36     17        1800        9778       0.00    0.02     0.00       93   \n",
      "37     18        1800        9777       0.00    0.02     0.00       93   \n",
      "38     19        1800        9776       0.00    0.02     0.00       93   \n",
      "39     20        1800        9775       0.00    0.02     0.00       93   \n",
      "\n",
      "        Type  \n",
      "0   Baseline  \n",
      "1   Baseline  \n",
      "2   Baseline  \n",
      "3   Baseline  \n",
      "4   Baseline  \n",
      "5   Baseline  \n",
      "6   Baseline  \n",
      "7   Baseline  \n",
      "8   Baseline  \n",
      "9   Baseline  \n",
      "10  Baseline  \n",
      "11  Baseline  \n",
      "12  Baseline  \n",
      "13  Baseline  \n",
      "14  Baseline  \n",
      "15  Baseline  \n",
      "16  Baseline  \n",
      "17  Baseline  \n",
      "18  Baseline  \n",
      "19  Baseline  \n",
      "20  Baseline  \n",
      "21  Baseline  \n",
      "22  Baseline  \n",
      "23  Baseline  \n",
      "24  Baseline  \n",
      "25  Baseline  \n",
      "26  Baseline  \n",
      "27  Baseline  \n",
      "28  Baseline  \n",
      "29  Baseline  \n",
      "30  Baseline  \n",
      "31  Baseline  \n",
      "32  Baseline  \n",
      "33  Baseline  \n",
      "34  Baseline  \n",
      "35  Baseline  \n",
      "36  Baseline  \n",
      "37  Baseline  \n",
      "38  Baseline  \n",
      "39  Baseline  \n",
      "    Cycle  Generation  N_Features  Precision  Recall  F-Score  Support    Type\n",
      "0       1        1850       10095       0.99    0.99     0.99     1600  Actual\n",
      "1       2        1850       10075       0.99    0.98     0.99     1600  Actual\n",
      "2       3        1850       10053       0.98    0.98     0.98     1600  Actual\n",
      "3       4        1850       10031       0.97    0.97     0.97     1600  Actual\n",
      "4       5        1850       10011       0.97    0.97     0.97     1600  Actual\n",
      "5       6        1850        9989       0.96    0.96     0.96     1600  Actual\n",
      "6       7        1850        9965       0.96    0.96     0.96     1600  Actual\n",
      "7       8        1850        9945       0.97    0.96     0.96     1600  Actual\n",
      "8       9        1850        9926       0.96    0.96     0.96     1600  Actual\n",
      "9      10        1850        9909       0.96    0.95     0.96     1600  Actual\n",
      "10     11        1850        9888       0.95    0.95     0.95     1600  Actual\n",
      "11     12        1850        9873       0.95    0.95     0.95     1600  Actual\n",
      "12     13        1850        9853       0.91    0.91     0.91     1600  Actual\n",
      "13     14        1850        9834       0.88    0.88     0.88     1600  Actual\n",
      "14     15        1850        9818       0.80    0.80     0.79     1600  Actual\n",
      "15     16        1850        9804       0.68    0.69     0.68     1600  Actual\n",
      "16     17        1850        9792       0.52    0.53     0.51     1600  Actual\n",
      "17     18        1850        9783       0.11    0.17     0.12     1600  Actual\n",
      "18     19        1850        9779       0.00    0.06     0.01     1600  Actual\n",
      "19     20        1850        9778       0.00    0.06     0.01     1600  Actual\n",
      "20      1        1800       10095       0.99    0.99     0.99     2554  Actual\n",
      "21      2        1800       10072       0.99    0.99     0.99     2554  Actual\n",
      "22      3        1800       10050       0.98    0.98     0.98     2554  Actual\n",
      "23      4        1800       10027       0.98    0.98     0.98     2554  Actual\n",
      "24      5        1800       10005       0.97    0.97     0.97     2554  Actual\n",
      "25      6        1800        9982       0.97    0.97     0.97     2554  Actual\n",
      "26      7        1800        9960       0.97    0.97     0.97     2554  Actual\n",
      "27      8        1800        9938       0.97    0.97     0.97     2554  Actual\n",
      "28      9        1800        9918       0.96    0.96     0.96     2554  Actual\n",
      "29     10        1800        9900       0.96    0.96     0.96     2554  Actual\n",
      "30     11        1800        9880       0.95    0.95     0.95     2554  Actual\n",
      "31     12        1800        9863       0.94    0.94     0.94     2554  Actual\n",
      "32     13        1800        9844       0.90    0.90     0.90     2554  Actual\n",
      "33     14        1800        9826       0.84    0.84     0.84     2554  Actual\n",
      "34     15        1800        9809       0.71    0.71     0.71     2554  Actual\n",
      "35     16        1800        9792       0.51    0.52     0.50     2554  Actual\n",
      "36     17        1800        9781       0.08    0.16     0.09     2554  Actual\n",
      "37     18        1800        9777       0.01    0.08     0.01     2554  Actual\n",
      "38     19        1800        9776       0.01    0.08     0.01     2554  Actual\n",
      "39     20        1800        9775       0.01    0.08     0.01     2554  Actual\n"
     ]
    }
   ],
   "source": [
    "file = os.path.join(ai.data_dir, \"authorship.csv\")\n",
    "authorship_df = pd.read_csv(file)\n",
    "authorship_df.loc[:,\"Type\"] = \"Actual\"\n",
    "\n",
    "file = os.path.join(ai.data_dir, \"authorship_baseline.csv\")\n",
    "baseline_df = pd.read_csv(file)\n",
    "baseline_df.loc[:,\"Type\"] = \"Baseline\"\n",
    "\n",
    "print(baseline_df)\n",
    "print(authorship_df)"
   ]
  },
  {
   "cell_type": "markdown",
   "metadata": {},
   "source": [
    "We're not running the full classifications, because that would take awhile (we'd need 100 different models). Instead we're going to manipulate this dataframe of results to get what we need.\n",
    "\n",
    "Let's make a dataframe that contains the actual f-score and the baseline f-score."
   ]
  },
  {
   "cell_type": "code",
   "execution_count": 3,
   "metadata": {},
   "outputs": [
    {
     "name": "stdout",
     "output_type": "stream",
     "text": [
      "    Cycle  Generation  N_Features  Precision  Recall  F-Score  Support  \\\n",
      "0       1        1850       10095       0.99    0.99     0.99     1600   \n",
      "1       2        1850       10075       0.99    0.98     0.99     1600   \n",
      "2       3        1850       10053       0.98    0.98     0.98     1600   \n",
      "3       4        1850       10031       0.97    0.97     0.97     1600   \n",
      "4       5        1850       10011       0.97    0.97     0.97     1600   \n",
      "..    ...         ...         ...        ...     ...      ...      ...   \n",
      "35     16        1800        9779       0.00    0.02     0.00       93   \n",
      "36     17        1800        9778       0.00    0.02     0.00       93   \n",
      "37     18        1800        9777       0.00    0.02     0.00       93   \n",
      "38     19        1800        9776       0.00    0.02     0.00       93   \n",
      "39     20        1800        9775       0.00    0.02     0.00       93   \n",
      "\n",
      "        Type  \n",
      "0     Actual  \n",
      "1     Actual  \n",
      "2     Actual  \n",
      "3     Actual  \n",
      "4     Actual  \n",
      "..       ...  \n",
      "35  Baseline  \n",
      "36  Baseline  \n",
      "37  Baseline  \n",
      "38  Baseline  \n",
      "39  Baseline  \n",
      "\n",
      "[80 rows x 8 columns]\n"
     ]
    }
   ],
   "source": [
    "results_df = pd.concat([authorship_df, baseline_df], axis=0)\n",
    "print(results_df)"
   ]
  },
  {
   "cell_type": "markdown",
   "metadata": {},
   "source": [
    "So, what does this dataframe tell us? We are doing the same task for 100 different cycles: classifying authors. Each cycle we remove the best features, so we expect the prediction accuracy (f-score) to go down over time. The *Baseline* is a set-up task in which we try to separate samples from the same author. Because it is the same writer, we expect to see a big difference. \n",
    "\n",
    "Let's take a look."
   ]
  },
  {
   "cell_type": "code",
   "execution_count": 4,
   "metadata": {},
   "outputs": [
    {
     "data": {
      "text/plain": [
       "<seaborn.axisgrid.FacetGrid at 0x7f23ac365290>"
      ]
     },
     "execution_count": 4,
     "metadata": {},
     "output_type": "execute_result"
    },
    {
     "data": {
      "image/png": "[encoded data removed]",
      "text/plain": [
       "<Figure size 864x360 with 2 Axes>"
      ]
     },
     "metadata": {},
     "output_type": "display_data"
    }
   ],
   "source": [
    "import seaborn as sns\n",
    "import matplotlib.pyplot as plt\n",
    "from matplotlib import rcParams\n",
    "sns.set_theme(style=\"whitegrid\")\n",
    "sns.set(font_scale=1.75)\n",
    "\n",
    "g = sns.FacetGrid(results_df, col = \"Generation\", height=5, aspect = 1.2, legend_out=False)\n",
    "g.map_dataframe(sns.lineplot, x=\"Cycle\", y=\"F-Score\", hue=\"Type\", linewidth=5)\n",
    "g.add_legend()"
   ]
  },
  {
   "cell_type": "code",
   "execution_count": null,
   "metadata": {},
   "outputs": [],
   "source": []
  }
 ],
 "metadata": {
  "kernelspec": {
   "display_name": "Python 3",
   "language": "python",
   "name": "python3"
  },
  "language_info": {
   "codemirror_mode": {
    "name": "ipython",
    "version": 3
   },
   "file_extension": ".py",
   "mimetype": "text/x-python",
   "name": "python",
   "nbconvert_exporter": "python",
   "pygments_lexer": "ipython3",
   "version": "3.7.7"
  }
 },
 "nbformat": 4,
 "nbformat_minor": 4
}
