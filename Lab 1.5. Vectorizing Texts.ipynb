{
 "cells": [
  {
   "cell_type": "markdown",
   "metadata": {},
   "source": [
    "In this lab, we'll be looking at how to turn a text into numbers. A numeric representation like this is called a *vector*. And so the process of turning language into numbers is called vectorizing. We'll start, as always, by loading our environment."
   ]
  },
  {
   "cell_type": "code",
   "execution_count": 1,
   "metadata": {},
   "outputs": [
    {
     "name": "stdout",
     "output_type": "stream",
     "text": [
      "Done!\n"
     ]
    }
   ],
   "source": [
    "from text_analytics import TextAnalytics\n",
    "import os\n",
    "import pandas as pd\n",
    "\n",
    "ai = TextAnalytics()\n",
    "ai.data_dir = os.path.join(\".\", \"data\")\n",
    "print(\"Done!\")"
   ]
  },
  {
   "cell_type": "markdown",
   "metadata": {},
   "source": [
    "We'll work with a digital corpora this time, from tweets that represent different cities around the world. Each row is a sample that is an aggregation of many different tweets from a single point in time."
   ]
  },
  {
   "cell_type": "code",
   "execution_count": 2,
   "metadata": {},
   "outputs": [
    {
     "name": "stdout",
     "output_type": "stream",
     "text": [
      "             City                                               Text\n",
      "0      washington   you really need to go back to bar tending or ...\n",
      "1          london   jay finley christ in explains why today is co...\n",
      "2           lagos   forget if this happened truly it s definitely...\n",
      "3         toronto   yall i love this skin big thanks to for makin...\n",
      "4         nairobi   the late brilliant prof ali mazrui explains h...\n",
      "...           ...                                                ...\n",
      "9995       dallas   seriously god is peripheral god is nice or ma...\n",
      "9996  los_angeles   good morning watching workouts who shall be m...\n",
      "9997       mumbai   you need to provide everything online on site...\n",
      "9998      toronto   we re hiring the centre is looking for highly...\n",
      "9999      kolkata   ingersoll rand is hiring for engineer i banga...\n",
      "\n",
      "[10000 rows x 2 columns]\n",
      "\n",
      "Done!\n"
     ]
    }
   ],
   "source": [
    "file = \"sociolinguistics.english_cities.gz\"\n",
    "file = os.path.join(ai.data_dir, file)\n",
    "df = pd.read_csv(file, nrows = 10000)\n",
    "print(df)\n",
    "print(\"\\nDone!\")"
   ]
  },
  {
   "cell_type": "markdown",
   "metadata": {},
   "source": [
    "So, here we are going to run some code to turn this into a vector of word frequencies. We're using *scikit-learn* to do this analysis."
   ]
  },
  {
   "cell_type": "code",
   "execution_count": 3,
   "metadata": {},
   "outputs": [
    {
     "name": "stdout",
     "output_type": "stream",
     "text": [
      "Done!\n"
     ]
    }
   ],
   "source": [
    "from sklearn.feature_extraction.text import CountVectorizer\n",
    "\n",
    "vectorizer = CountVectorizer(input = \"content\", analyzer = \"word\")\n",
    "\n",
    "print(\"Done!\")"
   ]
  },
  {
   "cell_type": "markdown",
   "metadata": {},
   "source": [
    "Now, we'll go ahead and use it."
   ]
  },
  {
   "cell_type": "code",
   "execution_count": 4,
   "metadata": {},
   "outputs": [
    {
     "name": "stdout",
     "output_type": "stream",
     "text": [
      "  (0, 18)\t1\n",
      "  (0, 124)\t1\n",
      "  (0, 462)\t1\n",
      "  (0, 63)\t1\n",
      "  (0, 314)\t1\n",
      "  (0, 425)\t1\n",
      "  (0, 226)\t1\n",
      "  (0, 163)\t1\n",
      "  (0, 427)\t2\n",
      "  (0, 26)\t1\n",
      "  (0, 221)\t11\n",
      "  (0, 225)\t3\n",
      "  (0, 484)\t19\n",
      "  (0, 337)\t1\n",
      "  (0, 471)\t2\n",
      "  (0, 335)\t1\n",
      "  (0, 8)\t1\n",
      "  (0, 234)\t6\n",
      "  (0, 358)\t1\n",
      "  (0, 299)\t1\n",
      "  (0, 72)\t6\n",
      "  (0, 177)\t1\n",
      "  (0, 185)\t1\n",
      "  (0, 148)\t1\n",
      "  (0, 143)\t1\n",
      "  :\t:\n",
      "  (0, 466)\t1\n",
      "  (0, 520)\t1\n",
      "  (0, 319)\t1\n",
      "  (0, 500)\t1\n",
      "  (0, 489)\t1\n",
      "  (0, 146)\t1\n",
      "  (0, 155)\t1\n",
      "  (0, 301)\t1\n",
      "  (0, 245)\t1\n",
      "  (0, 365)\t1\n",
      "  (0, 243)\t1\n",
      "  (0, 534)\t1\n",
      "  (0, 438)\t1\n",
      "  (0, 294)\t1\n",
      "  (0, 77)\t1\n",
      "  (0, 505)\t1\n",
      "  (0, 356)\t1\n",
      "  (0, 385)\t1\n",
      "  (0, 552)\t1\n",
      "  (0, 137)\t1\n",
      "  (0, 308)\t1\n",
      "  (0, 384)\t1\n",
      "  (0, 27)\t1\n",
      "  (0, 232)\t1\n",
      "  (0, 22)\t1\n",
      "Done!\n"
     ]
    }
   ],
   "source": [
    "line = ai.print_sample(df)\n",
    "vector = vectorizer.fit_transform([line])\n",
    "print(vector)\n",
    "print(\"Done!\")"
   ]
  },
  {
   "cell_type": "markdown",
   "metadata": {},
   "source": [
    "So, the first thing we've displayed is the string. And the second thing we've displayed is the vectorized or numeric version of that string.\n",
    "\n",
    "This is currently in a *sparse* format, so that not every element has to be displayed. A sparse vector is useful because a lot of values will be 0. We'll show the full version, by converting this into a dense vector."
   ]
  },
  {
   "cell_type": "code",
   "execution_count": 5,
   "metadata": {},
   "outputs": [
    {
     "name": "stdout",
     "output_type": "stream",
     "text": [
      "[[ 1  1  1  2  1  1  1  1  1  1  2  1  1  3  1  1  5  6  1 10  1  1  1  1\n",
      "   1  1  5  1  1  2  1  3  1  7  1  1  1  1  1  1  1  3  1 10  1  1  2  1\n",
      "   2  1  1  3  1  2  1  1  1  2  1  1  4  1  1  1  1  2  1  5  1  4  1  1\n",
      "   1  1  1  1  1  1  1  1  1  1  3  1  1  1  3  1  1  1  1  1  1  1  1  1\n",
      "   1  1  1  1  1  1  1  1  1  1  1  1  1  1  1  1  1  1  2  1  1  1  1  1\n",
      "   1  1  1  1  2  1  2  1  1  1  1  1  1  1  3  1  1  1  1  1  1  1  1  1\n",
      "   1  2  1  1  2  1  1  1  1  1  1  1  1  1  2  1  1  1  1  3  1 11  1  1\n",
      "   1  1  1  3  1  1  1  1  1  1  1  1  1  1  1  1  1  2  6  1  1  1  1  1\n",
      "   1  1  1  1  5  5  1  1  1  3  3  1  1  1  1  1  1  1  1  1  1  1  2  1\n",
      "   1  1  1  1  6  2 16  2  1  1  1  1  2  1  1 17  1 16  4  1  1  1  3  3\n",
      "   1  1  1  1  1  6  1  1  1  1  1  1  1  1  1  5  1  1  1  1  1  1  1  1\n",
      "   1  2  2  3  1  2  5  1  1  1  2  1  1  1  2  1  1  1  3  2  1  1  1  1\n",
      "   1  1  1  1  1  1  1  1  1  1  1  1  1  4  3  2  1  2  1  1  3  4  1  1\n",
      "   1  1  1  2  1  1  1  1  1  1  1  1  1  2  1 14  1  1 10  3  1  3  5  1\n",
      "   4  2  1  1  1  2  1  2  2  1  1  1  1  1  3  1  1  1  1  1  1  6  1  1\n",
      "   1  1  1  1  1  1  1  1  1  1  1  1  1  1  1  1  1  1  2  1  1  1  1  1\n",
      "   3  1  1  1  2  4  1  1  2  1  1  1  1  1  1  1  1  1  1  1  1  1  1  1\n",
      "   1  1  1  1  2  1  1  1  1  1  2  1  1  1  2  1  4  1  4  2  1  1  1  2\n",
      "   1  2  2  4  2  1  1  1  1  1  2  1  1  1  1  1  1  1  1  1  1  3  1  1\n",
      "   3  1  1  2  1  3 30  2  1  1  3  1 17  1  1  1  1  1  1 29  2  3  1  3\n",
      "   1  1  1  1  1  1  1  1  1  1  1  1  1  1  1  1  1  1  2  1  1  1  1  1\n",
      "   6  1  1  1  1  1  1  1  1  3  1  5  4  1  1  1  2  3  4  1  1  8  2  1\n",
      "   7  1  1  1  1  1  1  1  1  1  2  3 12  3  1]]\n",
      "Done!\n"
     ]
    }
   ],
   "source": [
    "line = ai.print_sample(df)\n",
    "vector = vectorizer.fit_transform([line]).todense()\n",
    "print(vector)\n",
    "print(\"Done!\")"
   ]
  },
  {
   "cell_type": "markdown",
   "metadata": {},
   "source": [
    "Let's finish up by making this into a nice dataframe."
   ]
  },
  {
   "cell_type": "code",
   "execution_count": 6,
   "metadata": {},
   "outputs": [
    {
     "name": "stdout",
     "output_type": "stream",
     "text": [
      "             0\n",
      "abandoned    1\n",
      "abbey        1\n",
      "about        5\n",
      "absolutely   1\n",
      "acceptance   1\n",
      "...         ..\n",
      "year         1\n",
      "yet          1\n",
      "you         10\n",
      "your         3\n",
      "yourselves   1\n",
      "\n",
      "[575 rows x 1 columns]\n",
      "Done!\n"
     ]
    }
   ],
   "source": [
    "line = ai.print_sample(df)\n",
    "vector = vectorizer.fit_transform([line])\n",
    "vector = ai.print_vector(vector, vectorizer)\n",
    "print(vector)\n",
    "print(\"Done!\")"
   ]
  },
  {
   "cell_type": "markdown",
   "metadata": {},
   "source": [
    "This process transforms each sentence in a list of numbers. Only one sample is represented at a time, which means that this vector isn't useful for making comparisons. And we haven't chosen how to represent the linguistic signal with much precision. This is just a first look at how to vectorize our texts.\n",
    "\n",
    "Let's change gears and take a look at word frequencies. What happens if we count all the words? Here we will load the pre-computed frequencies for the entire *NYT* corpus."
   ]
  },
  {
   "cell_type": "code",
   "execution_count": 7,
   "metadata": {},
   "outputs": [
    {
     "name": "stdout",
     "output_type": "stream",
     "text": [
      "                     Freq\n",
      "the              23600413\n",
      "of               13228324\n",
      "a                 9252017\n",
      "and               8944509\n",
      "to                8118755\n",
      "...                   ...\n",
      "morespecific            1\n",
      "carolinareturns         1\n",
      "sumbono                 1\n",
      "rhombuses               1\n",
      "fathersons              1\n",
      "\n",
      "[1452616 rows x 1 columns]\n",
      "364554840\n"
     ]
    }
   ],
   "source": [
    "file = \"economic.nyt.1931-2016.gz.freq.gz\"\n",
    "file = os.path.join(ai.data_dir, file)\n",
    "freq_df = pd.read_csv(file, index_col = 0)\n",
    "print(freq_df)\n",
    "\n",
    "print(freq_df.loc[:,\"Freq\"].sum())"
   ]
  },
  {
   "cell_type": "code",
   "execution_count": 8,
   "metadata": {},
   "outputs": [
    {
     "name": "stdout",
     "output_type": "stream",
     "text": [
      "                  Freq\n",
      "the           62430126\n",
      "of            31703209\n",
      "to            27865993\n",
      "and           21293643\n",
      "in            18100620\n",
      "...                ...\n",
      "frfrench             1\n",
      "iajapanese           1\n",
      "ukunited             1\n",
      "pnpanamantan         1\n",
      "desron               1\n",
      "\n",
      "[1836019 rows x 1 columns]\n",
      "842553927\n"
     ]
    }
   ],
   "source": [
    "file = \"economic.congress.1931-2016.gz.freq.gz\"\n",
    "file = os.path.join(ai.data_dir, file)\n",
    "freq_df2 = pd.read_csv(file, index_col = 0)\n",
    "freq_df2.columns = [\"Freq\"]\n",
    "print(freq_df2)\n",
    "\n",
    "print(freq_df2.loc[:,\"Freq\"].sum())"
   ]
  },
  {
   "cell_type": "markdown",
   "metadata": {},
   "source": [
    "So here we have a total of 1,452,132 word types. And 364,554,943 word tokens. This is informal digital data. What about congressional texts? We also load the word frequencies for congressional data. Here there is much more data (842 million words), but only 1,832,931 word types. That is type/token ratios of 0.0039 (NYT) and 0.0021 (Congress). The speech data is more formulaic, with less new vocabulary."
   ]
  },
  {
   "cell_type": "markdown",
   "metadata": {},
   "source": [
    "But what does the distribution of word frequencies look like? Let's make a graph that shows the number of words at each frequency. Because frequency drops off so quickly, we have to use log scale."
   ]
  },
  {
   "cell_type": "code",
   "execution_count": 10,
   "metadata": {},
   "outputs": [
    {
     "data": {
      "image/png": "[encoded data removed]",
      "text/plain": [
       "<Figure size 842.4x595.44 with 1 Axes>"
      ]
     },
     "metadata": {},
     "output_type": "display_data"
    }
   ],
   "source": [
    "import seaborn as sns\n",
    "import matplotlib.pyplot as plt\n",
    "from matplotlib import rcParams\n",
    "\n",
    "sns.set(font_scale = 2)\n",
    "sns.kdeplot(data = freq_df2, x = \"Freq\", fill = True, log_scale = True, linewidth = 5, \n",
    "            bw_method = \"scott\", bw_adjust = 3)\n",
    "\n",
    "# figure size in inches\n",
    "rcParams['figure.figsize'] = 11.7,8.27"
   ]
  },
  {
   "cell_type": "markdown",
   "metadata": {},
   "source": [
    "This shows us that most words have a low frequency, with few high frequency words (the long tail as the figure goes to the right)."
   ]
  },
  {
   "cell_type": "code",
   "execution_count": null,
   "metadata": {},
   "outputs": [],
   "source": []
  }
 ],
 "metadata": {
  "kernelspec": {
   "display_name": "Python 3",
   "language": "python",
   "name": "python3"
  },
  "language_info": {
   "codemirror_mode": {
    "name": "ipython",
    "version": 3
   },
   "file_extension": ".py",
   "mimetype": "text/x-python",
   "name": "python",
   "nbconvert_exporter": "python",
   "pygments_lexer": "ipython3",
   "version": "3.7.7"
  }
 },
 "nbformat": 4,
 "nbformat_minor": 4
}
