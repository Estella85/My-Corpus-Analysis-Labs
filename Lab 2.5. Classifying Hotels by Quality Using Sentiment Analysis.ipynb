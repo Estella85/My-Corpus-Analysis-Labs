{
 "cells": [
  {
   "cell_type": "markdown",
   "metadata": {},
   "source": [
    "In this lab we're going to do a sentiment-based classification of hotels, based on hotel reviews. This is the same case-study we saw in the lecture. What can we learn about the quality of hotels based on aggregated user reviews?"
   ]
  },
  {
   "cell_type": "code",
   "execution_count": 1,
   "metadata": {},
   "outputs": [
    {
     "name": "stdout",
     "output_type": "stream",
     "text": [
      "Done!\n"
     ]
    }
   ],
   "source": [
    "from text_analytics import TextAnalytics\n",
    "import os\n",
    "import pandas as pd\n",
    "\n",
    "ai = TextAnalytics()\n",
    "ai.data_dir = os.path.join(\".\", \"data\")\n",
    "print(\"Done!\")"
   ]
  },
  {
   "cell_type": "markdown",
   "metadata": {},
   "source": [
    "Let's load the reviews that we need for each hotel. We're looking at hotels below 3 stars (\"low\") and above 4 stars (\"high\"), each of which has at least 10 reviews."
   ]
  },
  {
   "cell_type": "code",
   "execution_count": 2,
   "metadata": {},
   "outputs": [
    {
     "name": "stdout",
     "output_type": "stream",
     "text": [
      "                                       Hotel Rating  \\\n",
      "0                 11th Avenue Hotel & Hostel    low   \n",
      "1                                3 West Club   high   \n",
      "2                                  414 Hotel   high   \n",
      "3     70 park avenue hotel - a Kimpton Hotel   high   \n",
      "4       A Victory Inn & Suites Phoenix North    low   \n",
      "...                                      ...    ...   \n",
      "5294             easyHotel Paddington London    low   \n",
      "5295                           iQ Hotel Roma   high   \n",
      "5296                      misc eatdrinksleep   high   \n",
      "5297                             nhow Berlin   high   \n",
      "5298              theWit, a Doubletree Hotel   high   \n",
      "\n",
      "                                                   Text  \n",
      "0     This hostel is in a very good location, close ...  \n",
      "1     We had 5 nights here and were unsure as to wha...  \n",
      "2     This is a small boutique hotel with a nice int...  \n",
      "3     I stayed at 70 Park Ave Hotel the night before...  \n",
      "4     I made a reservation. Cancelled 2 hours later ...  \n",
      "...                                                 ...  \n",
      "5294  I stayed at this hotel for five nights in May2...  \n",
      "5295  IQ Hotel was definitely a great choice for us....  \n",
      "5296  I can't imagine staying anywhere else in Amste...  \n",
      "5297  Compared to other very good hotels in Berlin (...  \n",
      "5298  Place had a buzz, best for younger set, staff ...  \n",
      "\n",
      "[5299 rows x 3 columns]\n"
     ]
    }
   ],
   "source": [
    "file = \"economic.hotels_as_reviews.gz\"\n",
    "file = os.path.join(ai.data_dir, file)\n",
    "df = pd.read_csv(file)\n",
    "print(df)"
   ]
  },
  {
   "cell_type": "markdown",
   "metadata": {},
   "source": [
    "We're going to use sentiment words as features. Words with a positive meaning or a negative meaning. These are pre-defined, so we don't need to fit a model before we use them. Let's take a look at how many high and low hotels we have here."
   ]
  },
  {
   "cell_type": "code",
   "execution_count": 3,
   "metadata": {},
   "outputs": [
    {
     "name": "stdout",
     "output_type": "stream",
     "text": [
      "{'low': 1678, 'high': 3621}\n"
     ]
    }
   ],
   "source": [
    "freq = ai.print_labels(df, \"Rating\")\n",
    "print(freq)"
   ]
  },
  {
   "cell_type": "markdown",
   "metadata": {},
   "source": [
    "The reviews skew high: there are more good than bad hotels. But we still have a good number of hotels in total, over 5k. So it might be difficult to make generalizations that tell us what a good hotel is, across lots of cities and types of guests. So now we have (1) our data from hotel reviews and (2) our sentiment vectorizer (positive and negative words). We're going to classify these by quality. The basic code is below; this just called our *text_analytics* package. That package splits the data into training and testing data, learns a classifier, and then evaluates the classifier. We're telling the package to use \"Rating\" as the ground-truth class, with sentiment features."
   ]
  },
  {
   "cell_type": "code",
   "execution_count": 4,
   "metadata": {},
   "outputs": [
    {
     "name": "stdout",
     "output_type": "stream",
     "text": [
      "              precision    recall  f1-score   support\n",
      "\n",
      "        high       0.99      1.00      1.00       369\n",
      "         low       1.00      0.98      0.99       161\n",
      "\n",
      "    accuracy                           0.99       530\n",
      "   macro avg       1.00      0.99      0.99       530\n",
      "weighted avg       0.99      0.99      0.99       530\n",
      "\n"
     ]
    }
   ],
   "source": [
    "results = ai.shallow_classification(df, labels = \"Rating\", features = \"sentiment\", classifier = \"lm\")\n",
    "print(results)"
   ]
  },
  {
   "cell_type": "markdown",
   "metadata": {},
   "source": [
    "**Be patient**\n",
    "\n",
    "And there we go! We're looking at the classifier accuracy. \n",
    "\n",
    "This will change a bit from the lecture, because we're using random train/test splits. That means the classifier is looking at different data each time. If you want more advanced examples for how to solve this authorship classification problem, take a look at the *text_analytics.shallow_classification()* function."
   ]
  },
  {
   "cell_type": "code",
   "execution_count": null,
   "metadata": {},
   "outputs": [],
   "source": []
  }
 ],
 "metadata": {
  "kernelspec": {
   "display_name": "Python 3",
   "language": "python",
   "name": "python3"
  },
  "language_info": {
   "codemirror_mode": {
    "name": "ipython",
    "version": 3
   },
   "file_extension": ".py",
   "mimetype": "text/x-python",
   "name": "python",
   "nbconvert_exporter": "python",
   "pygments_lexer": "ipython3",
   "version": "3.7.7"
  }
 },
 "nbformat": 4,
 "nbformat_minor": 4
}
